{
 "cells": [
  {
   "cell_type": "markdown",
   "metadata": {},
   "source": [
    "## ROI Calculation Demo"
   ]
  },
  {
   "cell_type": "markdown",
   "metadata": {},
   "source": [
    "#### This notebook explains how we implement ROI/Savings calculation per template.\n",
    "#### The idea is to experiment with CSVs for unified_jobs and events_table and visually verify the calculations using the cluster-job-status-elapsedtime-hostnames table rendered below.\n",
    "#### To keep things simple, experiment with smaller CSVs."
   ]
  },
  {
   "cell_type": "code",
   "execution_count": null,
   "metadata": {},
   "outputs": [],
   "source": [
    "!pip install pandas\n",
    "!pip install termcolor\n",
    "!pip install IPython\n",
    "!pip install ipywidgets"
   ]
  },
  {
   "cell_type": "code",
   "execution_count": null,
   "metadata": {},
   "outputs": [],
   "source": [
    "import pandas as pd\n",
    "from IPython.display import Markdown\n",
    "from IPython.display import display, HTML as html_print\n",
    "from ipywidgets import widgets"
   ]
  },
  {
   "cell_type": "markdown",
   "metadata": {},
   "source": [
    "### Read unified_jobs_table in a Pandas dataframe"
   ]
  },
  {
   "cell_type": "code",
   "execution_count": null,
   "metadata": {},
   "outputs": [],
   "source": [
    "# unified_jobs = pd.read_csv('unified_jobs_fk.csv')\n",
    "unified_jobs = pd.read_csv('unified_jobs_table.csv')\n",
    "\n",
    "if unified_jobs.get('cluster_id') is None:\n",
    "    unified_jobs['cluster_id'] = 1\n",
    "\n",
    "unified_jobs.head(5)"
   ]
  },
  {
   "cell_type": "markdown",
   "metadata": {},
   "source": [
    "### Read events_table in a Pandas dataframe"
   ]
  },
  {
   "cell_type": "code",
   "execution_count": null,
   "metadata": {},
   "outputs": [],
   "source": [
    "# events = pd.read_csv('job_events_fk.csv')\n",
    "events = pd.read_csv('events_table.csv')\n",
    "\n",
    "if events.get('cluster_id') is None:\n",
    "    events['cluster_id'] = 1\n",
    "    \n",
    "events.head(5)"
   ]
  },
  {
   "cell_type": "markdown",
   "metadata": {},
   "source": [
    "### Get ALL templates"
   ]
  },
  {
   "cell_type": "code",
   "execution_count": null,
   "metadata": {},
   "outputs": [],
   "source": [
    "templates = sorted(unified_jobs['name'].unique())"
   ]
  },
  {
   "cell_type": "markdown",
   "metadata": {},
   "source": [
    "### Helper functions"
   ]
  },
  {
   "cell_type": "code",
   "execution_count": null,
   "metadata": {},
   "outputs": [],
   "source": [
    "def get_host_names_for_job(cluster_id, job_id):\n",
    "    host_names = events[(events['job_id']==job_id) & (events['cluster_id']==cluster_id)]['host_name'].dropna().unique()\n",
    "    return host_names"
   ]
  },
  {
   "cell_type": "code",
   "execution_count": null,
   "metadata": {},
   "outputs": [],
   "source": [
    "def get_jobs_for_a_template(template):\n",
    "   job_ids = unified_jobs[unified_jobs['name']==template]['id']\n",
    "   cluster_ids = unified_jobs[unified_jobs['name']==template]['cluster_id']\n",
    "   statuses = unified_jobs[unified_jobs['name']==template]['status']\n",
    "   elapsed_times = unified_jobs[unified_jobs['name']==template]['elapsed']\n",
    "    \n",
    "   run_count = 0\n",
    "   successful_run_count = 0\n",
    "   failed_run_count = 0\n",
    "\n",
    "   elapsed_sum = 0\n",
    "   successful_elapsed_sum = 0\n",
    "   failed_elapsed_sum = 0\n",
    "    \n",
    "   host_run_count = 0\n",
    "   successful_host_run_count = 0\n",
    "   failed_host_run_count = 0\n",
    "\n",
    "   all_rows = []\n",
    "   derived_stats = {}\n",
    "\n",
    "   for cluster_id, job_id, status, elapsed in zip(cluster_ids, job_ids, statuses, elapsed_times):\n",
    "       run_count += 1\n",
    "       elapsed_sum += elapsed\n",
    "    \n",
    "       host_names = get_host_names_for_job(cluster_id, job_id)        \n",
    "       host_run_count += len(host_names) \n",
    "       \n",
    "#        print(f\"{cluster_id} ==> {job_id} ==> {status} ==> {elapsed} ==> {host_names}\")            \n",
    "       \n",
    "       if status == 'successful':\n",
    "           successful_run_count += 1\n",
    "           successful_elapsed_sum += elapsed\n",
    "           successful_host_run_count += len(host_names)\n",
    "       elif status == 'failed':\n",
    "           failed_run_count += 1\n",
    "           failed_elapsed_sum += elapsed\n",
    "           failed_host_run_count += len(host_names)\n",
    "            \n",
    "       host_run_count_avg = 0 if run_count == 0 else host_run_count / run_count\n",
    "       successful_host_run_count_avg = 0 if successful_run_count == 0 else successful_host_run_count / successful_run_count\n",
    "       failed_host_run_count_avg = 0 if failed_run_count == 0 else failed_host_run_count / failed_run_count\n",
    "    \n",
    "       row = [cluster_id, job_id, status, elapsed, host_names]\n",
    "       all_rows.append(row)     \n",
    "       \n",
    "\n",
    "   print(f\"\\nrun_count={run_count}\")\n",
    "   print(f\"\\nsuccessful_run_count={successful_run_count}\")\n",
    "   print(f\"\\nfailed_run_count={failed_run_count}\")\n",
    "\n",
    "   print(f\"\\nelapsed_sum={elapsed_sum}\")\n",
    "   print(f\"\\nsuccessful_elapsed_sum={successful_elapsed_sum}\")\n",
    "   print(f\"\\nfailed_elapsed_sum={failed_elapsed_sum}\")\n",
    "    \n",
    "   print(f\"\\nhost_run_count={host_run_count}\")\n",
    "   print(f\"\\nsuccessful_host_run_count={successful_host_run_count}\")\n",
    "   print(f\"\\nfailed_host_run_count={failed_host_run_count}\")\n",
    "\n",
    "   print(f\"\\nhost_run_count_avg={host_run_count_avg}\")\n",
    "   print(f\"\\nsuccessful_host_run_count_avg={successful_host_run_count_avg}\")\n",
    "   print(f\"\\nfailed_host_run_count_avg={failed_host_run_count_avg}\")\n",
    "    \n",
    "   print(f\"\\nknown_roi_metric={successful_run_count * successful_host_run_count_avg}\")\n",
    "\n",
    "   derived_stats['run_count'] = run_count\n",
    "   derived_stats['successful_run_count'] = successful_run_count\n",
    "   derived_stats['failed_run_count'] = failed_run_count\n",
    "    \n",
    "   derived_stats['elapsed_sum'] = elapsed_sum \n",
    "   derived_stats['successful_elapsed_sum'] = successful_elapsed_sum\n",
    "   derived_stats['failed_elapsed_sum'] = failed_elapsed_sum\n",
    "\n",
    "   derived_stats['host_run_count'] = host_run_count \n",
    "   derived_stats['successful_host_run_count'] = successful_host_run_count\n",
    "   derived_stats['failed_host_run_count'] = failed_host_run_count\n",
    "    \n",
    "   derived_stats['host_run_count_avg'] = host_run_count_avg \n",
    "   derived_stats['successful_host_run_count_avg'] = successful_host_run_count_avg\n",
    "   derived_stats['failed_host_run_count_avg'] = failed_host_run_count_avg \n",
    "\n",
    "   derived_stats['known_roi_metric'] = successful_run_count * successful_host_run_count_avg\n",
    "\n",
    "   return all_rows, derived_stats\n",
    "    "
   ]
  },
  {
   "cell_type": "markdown",
   "metadata": {},
   "source": [
    "### Interactive Dropdown to select a template"
   ]
  },
  {
   "cell_type": "code",
   "execution_count": null,
   "metadata": {},
   "outputs": [],
   "source": [
    "from ipywidgets import interact, Dropdown\n",
    "\n",
    "display (Markdown(f'<h2><span style=\"color:green;\">ROI Demo</span></h2>'))\n",
    "    \n",
    "templates_dropdown = Dropdown(options = templates)\n",
    "\n",
    "\n",
    "@interact(template = templates_dropdown)\n",
    "def print_template(template):\n",
    "    marked_down = f'<b><span style=\"color: black\">Template: {template}</span></b>'\n",
    "    display (Markdown(marked_down))\n",
    "\n",
    "    all_rows, derived_stats = get_jobs_for_a_template(template)\n",
    "\n",
    "    df = pd.DataFrame(all_rows, columns=['Cluster ID', 'Job ID','Status', 'Elapsed', 'Hostnames'])\n",
    "    \n",
    "    display(html_print(df.to_html()))\n",
    "\n",
    "    \n",
    "    @interact(manual_cost=(0, 100.0), automtion_cost=(0, 40.0), manual_time_in_mins=(0, 600.0), style={'text-align': 'left', 'width': '200px'})\n",
    "    def cost(manual_cost=50.0, automtion_cost=20.0, manual_time_in_mins=60.00):\n",
    "        print(f\"Successful Host Run Count: {derived_stats['successful_host_run_count']}\")\n",
    "        print(f\"Successful Elapsed Sum in seconds: {derived_stats['successful_elapsed_sum']}\\n\")\n",
    "        \n",
    "        total_manual_cost = derived_stats['successful_host_run_count'] * float(manual_cost) * float(manual_time_in_mins) / 60\n",
    "        display (Markdown(f'<h4><span style=\"color: gray\">Total Manual Cost: Successful Host Run Count * (manual_cost * manual_time_in_minutes) = {total_manual_cost}</span></h4>'))\n",
    "        \n",
    "        total_automation_cost = round((derived_stats['successful_elapsed_sum']/3600) * float(automtion_cost), 2)\n",
    "        display (Markdown(f'<h4><span style=\"color: gray\">Total Automation Cost: Successful Elapsed Sum in seconds / 3600 * automation_cost = {total_automation_cost}</span></h4>'))\n",
    "        \n",
    "        display (Markdown(f'<h4><span style=\"color: gray\">Total Savings: Total Manual Cost - Total Automation Cost = {total_manual_cost - total_automation_cost}</span></h4>'))\n",
    "        display (Markdown(f'<h4><span style=\"color: green\">Total Savings for Template {template}</span></h4>{total_manual_cost - total_automation_cost}'))\n"
   ]
  },
  {
   "cell_type": "code",
   "execution_count": null,
   "metadata": {},
   "outputs": [],
   "source": []
  }
 ],
 "metadata": {
  "kernelspec": {
   "display_name": "Python 3",
   "language": "python",
   "name": "python3"
  },
  "language_info": {
   "codemirror_mode": {
    "name": "ipython",
    "version": 3
   },
   "file_extension": ".py",
   "mimetype": "text/x-python",
   "name": "python",
   "nbconvert_exporter": "python",
   "pygments_lexer": "ipython3",
   "version": "3.6.5"
  }
 },
 "nbformat": 4,
 "nbformat_minor": 4
}
